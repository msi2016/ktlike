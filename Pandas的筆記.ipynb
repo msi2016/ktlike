{
 "cells": [
  {
   "cell_type": "markdown",
   "metadata": {},
   "source": [
    "# Pandas的筆記"
   ]
  },
  {
   "cell_type": "markdown",
   "metadata": {},
   "source": [
    "1.合併路徑下多個Excel表到一個文件中"
   ]
  },
  {
   "cell_type": "code",
   "execution_count": null,
   "metadata": {},
   "outputs": [],
   "source": [
    "import pandas as pd\n",
    "import os"
   ]
  },
  {
   "cell_type": "code",
   "execution_count": null,
   "metadata": {},
   "outputs": [],
   "source": [
    "df = pd.read_excel('文件名')\n",
    "files = [file for file in os.lisdir('./文件夾')]\n",
    "\n",
    "all_months_data = pd.DataFrame()\n",
    "\n",
    "for file in files:\n",
    "    df = pd.read_excel('./文件夾' + file)\n",
    "    all_months_data = pd.concat([all_months_data,df])\n",
    "all_months_data.to_excel('./文件名',index= False)"
   ]
  },
  {
   "cell_type": "markdown",
   "metadata": {},
   "source": [
    "2.增加一列&去除某列"
   ]
  },
  {
   "cell_type": "code",
   "execution_count": null,
   "metadata": {},
   "outputs": [],
   "source": [
    "#獲取一個欄位的值，切片範圍\n",
    "all_data['列名'] = all_data['列名'].str[0:2]\n",
    "\n",
    "#把一個日期欄位轉為整型數據欄位\n",
    "all_data['列名'] = all_data['Month'].astype('int32')\n",
    "\n",
    "#刪除某列\n",
    "all_data = all_data.drop(columns='列',inplace=True)"
   ]
  },
  {
   "cell_type": "markdown",
   "metadata": {},
   "source": [
    "3.清洗數據"
   ]
  },
  {
   "cell_type": "code",
   "execution_count": null,
   "metadata": {},
   "outputs": [],
   "source": [
    "#獲取空值\n",
    "nan_df = all_data[all_data.isna().any(axis=1)]\n",
    "\n",
    "#去除空值\n",
    "all_data = all_data.dropna(how='any')\n",
    "\n",
    "#篩選某數值并刪除\n",
    "temp_df = all_data[all_data['查詢列'].str[0:2] ！= '要查詢的條件']\n"
   ]
  },
  {
   "cell_type": "markdown",
   "metadata": {},
   "source": [
    "4.更新列數據的類型"
   ]
  },
  {
   "cell_type": "code",
   "execution_count": null,
   "metadata": {},
   "outputs": [],
   "source": [
    "all_data['列'] = pd.to_numeric(all_data['列'])"
   ]
  },
  {
   "cell_type": "markdown",
   "metadata": {},
   "source": [
    "5.兩列數據做計算"
   ]
  },
  {
   "cell_type": "code",
   "execution_count": null,
   "metadata": {},
   "outputs": [],
   "source": [
    "all_data['新列'] = all_data['列1'] * all_data['列2']"
   ]
  },
  {
   "cell_type": "markdown",
   "metadata": {},
   "source": [
    "6.合併數據欄位"
   ]
  },
  {
   "cell_type": "code",
   "execution_count": null,
   "metadata": {},
   "outputs": [],
   "source": [
    "all_data.groupby('列').sum()"
   ]
  },
  {
   "cell_type": "code",
   "execution_count": null,
   "metadata": {},
   "outputs": [],
   "source": [
    "#直方圖展示\n",
    "import matplotlib.pyplot as plt\n",
    "months = range(1,13) #構造1——12月份\n",
    "plt.bar(months,results['列'])\n",
    "plt.xticks(months)\n",
    "plt.xlabel('X軸描述')\n",
    "plt.ylabel('Y軸描述')\n",
    "plt.show()"
   ]
  },
  {
   "cell_type": "markdown",
   "metadata": {},
   "source": [
    "7.把某列按逗號或空格區分"
   ]
  },
  {
   "cell_type": "code",
   "execution_count": null,
   "metadata": {},
   "outputs": [],
   "source": [
    "# 使用 .apply()\n",
    "#去除，以第一個逗號為標識符\n",
    "def get_city(address):\n",
    "    return address.split(',')[1]\n",
    "#去除，以第二個逗號為標識符，以及空格\n",
    "def get_state(address):\n",
    "    return address.split(',')[2].split(' ')[1]\n",
    "\n",
    "all_data['列'] = all_data['要區分的列'].apply(lambda x:get_city(x) + ' '+get_state(x)) \n",
    "#第二種寫法\n",
    "all_data['列'] = all_data['要區分的列'].apply(lambda x:f\"{get_city(x)} ({get_state(x)})\") "
   ]
  },
  {
   "cell_type": "markdown",
   "metadata": {},
   "source": [
    "8.列中唯一值的選擇"
   ]
  },
  {
   "cell_type": "code",
   "execution_count": null,
   "metadata": {},
   "outputs": [],
   "source": [
    "cities = all_data['列'].unique()\n",
    "#第二種方式\n",
    "cities = [city for city,df in all_data.groupby('city')]"
   ]
  },
  {
   "cell_type": "markdown",
   "metadata": {},
   "source": [
    "9.時間欄位處理相關\n",
    "注意到datetime是模块，datetime模块还包含一个datetime类，通过from datetime import datetime导入的才是datetime这个类。如果仅导入import datetime，则必须引用全名datetime.datetime。"
   ]
  },
  {
   "cell_type": "code",
   "execution_count": null,
   "metadata": {},
   "outputs": [],
   "source": [
    "#如下是採用Python對時間的處理方法\n",
    "all_data['時間列'] = pd.to_datetime(all_data['時間列'])\n",
    "#另一種datetime方式\n",
    "from datetime import datetime\n",
    "datetime.(2017,9,24,11,11,38,38)"
   ]
  },
  {
   "cell_type": "code",
   "execution_count": null,
   "metadata": {},
   "outputs": [],
   "source": [
    "dll_data['hour'] = all_data['列'].dt.hour\n",
    "dll_data['minute'] = all_data['列'].dt.minute\n",
    "#提取唯一的時間作為x軸\n",
    "hours = [hour for hour,df in all_data.groupby('hour')]\n",
    "#展示時間點的計數部分\n",
    "plt.plot(hours,all_data.groupby(['hour']).count())\n",
    "plt.xticks(hours)\n",
    "plt.grid() #背景格線\n",
    "plt.show()"
   ]
  },
  {
   "cell_type": "markdown",
   "metadata": {},
   "source": [
    "10.數據歸類"
   ]
  },
  {
   "cell_type": "code",
   "execution_count": null,
   "metadata": {},
   "outputs": [],
   "source": [
    "df = all_data[all_data['列']].duplicated(keep=False)\n",
    "df['新增加總'] = df.groupby('以該列為匯總標準')['要匯總的列'].transform(lambda x:','.join(x))\n",
    "df = df[['列','列2']].drop_duplicates()"
   ]
  },
  {
   "cell_type": "code",
   "execution_count": null,
   "metadata": {},
   "outputs": [],
   "source": [
    "product_group = all_data.groupby('Product')\n",
    "quantity_ordered = product_group.sum()['加總的列']\n",
    "\n",
    "products = [product for product,df in prodcut_group]\n",
    "#顯示直方圖\n",
    "plt.bra(product,quantity_ordered)\n",
    "#字形垂直，大小為8\n",
    "plt.xticks(products,rotation-'vertical',size=8)\n",
    "plt.show()"
   ]
  },
  {
   "cell_type": "markdown",
   "metadata": {},
   "source": [
    "11.遍历每一行&根据特定条件获取行"
   ]
  },
  {
   "cell_type": "code",
   "execution_count": null,
   "metadata": {},
   "outputs": [],
   "source": [
    "print(df.iloc[0:4])\n",
    "for index,row in df.iterrows():\n",
    "    print(index,row['Name'])\n",
    "    \n",
    "df.loc[df['Type1']] == \"Fire\""
   ]
  },
  {
   "cell_type": "markdown",
   "metadata": {},
   "source": [
    "12.排序"
   ]
  },
  {
   "cell_type": "code",
   "execution_count": null,
   "metadata": {},
   "outputs": [],
   "source": [
    "df.sort_values(['name',ascending=False]) #ascending 升序，可以用切片[1,0],對應兩列排序\n",
    "\n",
    "df['列'] = df.iloc[:,4:9].sum(axis=1) #選中全部行，加總4~9列數值\n",
    "\n",
    "cols = list(df.columns)\n",
    "df = df[cols[0:4] + [cols[-1]] + cols[4:12]] #調整列的排序"
   ]
  },
  {
   "cell_type": "markdown",
   "metadata": {},
   "source": [
    "13.过滤数据(基于多种条件)&重置index & 正则表达式过滤(基于文本模式的过滤)"
   ]
  },
  {
   "cell_type": "code",
   "execution_count": null,
   "metadata": {},
   "outputs": [],
   "source": [
    "new_df = df.loc[(df['列1'] == '條件') & (df['列2'] == '條件') & (df['列3'] > 70)]\n",
    "\n",
    "new_df = new_df.reset.index(drop=True,inplace=True)\n"
   ]
  },
  {
   "cell_type": "code",
   "execution_count": null,
   "metadata": {},
   "outputs": [],
   "source": [
    "import re\n",
    "df.loc[df['列'].str.contains('條件1 | 條件2',flags=re.I,regex=True)]\n",
    "df.loc[df['列'].str.contains('^pi[a-z]*',flags=re.I,regex=True)]"
   ]
  },
  {
   "cell_type": "markdown",
   "metadata": {},
   "source": [
    "14.有条件的变化"
   ]
  },
  {
   "cell_type": "code",
   "execution_count": null,
   "metadata": {},
   "outputs": [],
   "source": [
    "df.loc[df['列'] >500,['列2','列3']] = '列2 列3的條件' #可以不同的條件，使用[條件1,,條件2]"
   ]
  },
  {
   "cell_type": "markdown",
   "metadata": {},
   "source": [
    "15.按列值将Excel数据分离到工作簿中"
   ]
  },
  {
   "cell_type": "code",
   "execution_count": null,
   "metadata": {},
   "outputs": [],
   "source": [
    "df = pd.read_excel('讀取的excel文件')\n",
    "split_values = df['列'].unique()\n",
    "for value in split_values:\n",
    "    df1 = df[df['列'] == value]\n",
    "    output_file_name = \"列_\" + str(value) + \"_文件名.xlsx\"\n",
    "    df1.to_excel(output_file_name,index=False)"
   ]
  },
  {
   "cell_type": "markdown",
   "metadata": {},
   "source": [
    "16.Python自动化远程工作者系列"
   ]
  },
  {
   "cell_type": "code",
   "execution_count": 1,
   "metadata": {},
   "outputs": [],
   "source": [
    "import os\n",
    "import pandas as pd\n",
    "from datetime import date"
   ]
  },
  {
   "cell_type": "code",
   "execution_count": null,
   "metadata": {},
   "outputs": [],
   "source": [
    "data_location = '路徑/路徑1'\n",
    "file_list = []\n",
    "for file in os.listdir(data_location):\n",
    "    file_list.append(file)"
   ]
  },
  {
   "cell_type": "code",
   "execution_count": null,
   "metadata": {},
   "outputs": [],
   "source": [
    "data = {'file_name':file_list}\n",
    "file_df = pd.DataFrame(data)\n",
    "new_file_directory = '路徑/路徑2'\n",
    "today = date.today()\n",
    "file_df.to_excel(new_file_directory + 'receipts_sum' +str(today) + '.xlsx')"
   ]
  },
  {
   "cell_type": "code",
   "execution_count": null,
   "metadata": {},
   "outputs": [],
   "source": [
    "for file in os.listdir(data_location):\n",
    "    os.rename(data_location + file,new_file_directory + file)"
   ]
  },
  {
   "cell_type": "code",
   "execution_count": null,
   "metadata": {},
   "outputs": [],
   "source": [
    "string_to_find = 'Derrick'\n",
    "directory_to_search = '路徑/路徑2'\n",
    "dierick_docs = []\n",
    "for file in os.listdir(directory_to_search):\n",
    "    with open(directory_to_search + file) as f:\n",
    "        if string_to_find in f.read():\n",
    "            derrick_docs.append(file)\n",
    "print(derrick_docs)"
   ]
  },
  {
   "cell_type": "code",
   "execution_count": null,
   "metadata": {},
   "outputs": [],
   "source": []
  },
  {
   "cell_type": "code",
   "execution_count": null,
   "metadata": {},
   "outputs": [],
   "source": []
  },
  {
   "cell_type": "code",
   "execution_count": null,
   "metadata": {},
   "outputs": [],
   "source": []
  },
  {
   "cell_type": "code",
   "execution_count": null,
   "metadata": {},
   "outputs": [],
   "source": []
  }
 ],
 "metadata": {
  "kernelspec": {
   "display_name": "Python 3",
   "language": "python",
   "name": "python3"
  },
  "language_info": {
   "codemirror_mode": {
    "name": "ipython",
    "version": 3
   },
   "file_extension": ".py",
   "mimetype": "text/x-python",
   "name": "python",
   "nbconvert_exporter": "python",
   "pygments_lexer": "ipython3",
   "version": "3.8.5"
  }
 },
 "nbformat": 4,
 "nbformat_minor": 4
}
