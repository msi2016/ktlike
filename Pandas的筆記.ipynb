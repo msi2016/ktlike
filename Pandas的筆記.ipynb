{
 "cells": [
  {
   "cell_type": "markdown",
   "metadata": {},
   "source": [
    "# Pandas的筆記"
   ]
  },
  {
   "cell_type": "markdown",
   "metadata": {},
   "source": [
    "1.合併路徑下多個Excel表到一個文件中"
   ]
  },
  {
   "cell_type": "code",
   "execution_count": null,
   "metadata": {},
   "outputs": [],
   "source": [
    "import pandas as pd\n",
    "import os"
   ]
  },
  {
   "cell_type": "code",
   "execution_count": null,
   "metadata": {},
   "outputs": [],
   "source": [
    "df = pd.read_excel('文件名')\n",
    "files = [file for file in os.lisdir('./文件夾')]\n",
    "\n",
    "all_months_data = pd.DataFrame()\n",
    "\n",
    "for file in files:\n",
    "    df = pd.read_excel('./文件夾' + file)\n",
    "    all_months_data = pd.concat([all_months_data,df])\n",
    "all_months_data.to_excel('./文件名',index= False)"
   ]
  },
  {
   "cell_type": "markdown",
   "metadata": {},
   "source": [
    "2.增加一列&去除某列"
   ]
  },
  {
   "cell_type": "code",
   "execution_count": null,
   "metadata": {},
   "outputs": [],
   "source": [
    "#獲取一個欄位的值，切片範圍\n",
    "all_data['列名'] = all_data['列名'].str[0:2]\n",
    "\n",
    "#把一個日期欄位轉為整型數據欄位\n",
    "all_data['列名'] = all_data['Month'].astype('int32')\n",
    "\n",
    "#刪除某列\n",
    "all_data = all_data.drop(columns='列',inplace=True)"
   ]
  },
  {
   "cell_type": "markdown",
   "metadata": {},
   "source": [
    "3.清洗數據"
   ]
  },
  {
   "cell_type": "code",
   "execution_count": null,
   "metadata": {},
   "outputs": [],
   "source": [
    "#獲取空值\n",
    "nan_df = all_data[all_data.isna().any(axis=1)]\n",
    "\n",
    "#去除空值\n",
    "all_data = all_data.dropna(how='any')\n",
    "\n",
    "#篩選某數值并刪除\n",
    "temp_df = all_data[all_data['查詢列'].str[0:2] ！= '要查詢的條件']\n"
   ]
  },
  {
   "cell_type": "markdown",
   "metadata": {},
   "source": [
    "4.更新列數據的類型"
   ]
  },
  {
   "cell_type": "code",
   "execution_count": null,
   "metadata": {},
   "outputs": [],
   "source": [
    "all_data['列'] = pd.to_numeric(all_data['列'])"
   ]
  },
  {
   "cell_type": "markdown",
   "metadata": {},
   "source": [
    "5.兩列數據做計算"
   ]
  },
  {
   "cell_type": "code",
   "execution_count": null,
   "metadata": {},
   "outputs": [],
   "source": [
    "all_data['新列'] = all_data['列1'] * all_data['列2']"
   ]
  },
  {
   "cell_type": "markdown",
   "metadata": {},
   "source": [
    "6.合併數據欄位"
   ]
  },
  {
   "cell_type": "code",
   "execution_count": null,
   "metadata": {},
   "outputs": [],
   "source": [
    "all_data.groupby('列').sum()"
   ]
  },
  {
   "cell_type": "code",
   "execution_count": null,
   "metadata": {},
   "outputs": [],
   "source": [
    "#直方圖展示\n",
    "import matplotlib.pyplot as plt\n",
    "months = range(1,13) #構造1——12月份\n",
    "plt.bar(months,results['列'])\n",
    "plt.xticks(months)\n",
    "plt.xlabel('X軸描述')\n",
    "plt.ylabel('Y軸描述')\n",
    "plt.show()"
   ]
  },
  {
   "cell_type": "markdown",
   "metadata": {},
   "source": [
    "7.把某列按逗號或空格區分"
   ]
  },
  {
   "cell_type": "code",
   "execution_count": null,
   "metadata": {},
   "outputs": [],
   "source": [
    "# 使用 .apply()\n",
    "#去除，以第一個逗號為標識符\n",
    "def get_city(address):\n",
    "    return address.split(',')[1]\n",
    "#去除，以第二個逗號為標識符，以及空格\n",
    "def get_state(address):\n",
    "    return address.split(',')[2].split(' ')[1]\n",
    "\n",
    "all_data['列'] = all_data['要區分的列'].apply(lambda x:get_city(x) + ' '+get_state(x)) \n",
    "#第二種寫法\n",
    "all_data['列'] = all_data['要區分的列'].apply(lambda x:f\"{get_city(x)} ({get_state(x)})\") "
   ]
  },
  {
   "cell_type": "markdown",
   "metadata": {},
   "source": [
    "8.列中唯一值的選擇"
   ]
  },
  {
   "cell_type": "code",
   "execution_count": null,
   "metadata": {},
   "outputs": [],
   "source": [
    "cities = all_data['列'].unique()\n",
    "#第二種方式\n",
    "cities = [city for city,df in all_data.groupby('city')]"
   ]
  },
  {
   "cell_type": "markdown",
   "metadata": {},
   "source": [
    "9.時間欄位處理相關\n",
    "注意到datetime是模块，datetime模块还包含一个datetime类，通过from datetime import datetime导入的才是datetime这个类。如果仅导入import datetime，则必须引用全名datetime.datetime。"
   ]
  },
  {
   "cell_type": "code",
   "execution_count": null,
   "metadata": {},
   "outputs": [],
   "source": [
    "#如下是採用Python對時間的處理方法\n",
    "all_data['時間列'] = pd.to_datetime(all_data['時間列'])\n",
    "#另一種datetime方式\n",
    "from datetime import datetime\n",
    "datetime.(2017,9,24,11,11,38,38)"
   ]
  },
  {
   "cell_type": "code",
   "execution_count": null,
   "metadata": {},
   "outputs": [],
   "source": [
    "dll_data['hour'] = all_data['列'].dt.hour\n",
    "dll_data['minute'] = all_data['列'].dt.minute\n",
    "#提取唯一的時間作為x軸\n",
    "hours = [hour for hour,df in all_data.groupby('hour')]\n",
    "#展示時間點的計數部分\n",
    "plt.plot(hours,all_data.groupby(['hour']).count())\n",
    "plt.xticks(hours)\n",
    "plt.grid() #背景格線\n",
    "plt.show()"
   ]
  },
  {
   "cell_type": "markdown",
   "metadata": {},
   "source": [
    "10.數據歸類"
   ]
  },
  {
   "cell_type": "code",
   "execution_count": null,
   "metadata": {},
   "outputs": [],
   "source": [
    "df = all_data[all_data['列']].duplicated(keep=False)\n",
    "df['新增加總'] = df.groupby('以該列為匯總標準')['要匯總的列'].transform(lambda x:','.join(x))\n",
    "df = df[['列','列2']].drop_duplicates()"
   ]
  },
  {
   "cell_type": "code",
   "execution_count": null,
   "metadata": {},
   "outputs": [],
   "source": [
    "product_group = all_data.groupby('Product')\n",
    "quantity_ordered = product_group.sum()['加總的列']\n",
    "\n",
    "products = [product for product,df in prodcut_group]\n",
    "#顯示直方圖\n",
    "plt.bra(product,quantity_ordered)\n",
    "#字形垂直，大小為8\n",
    "plt.xticks(products,rotation-'vertical',size=8)\n",
    "plt.show()"
   ]
  },
  {
   "cell_type": "code",
   "execution_count": null,
   "metadata": {},
   "outputs": [],
   "source": []
  },
  {
   "cell_type": "code",
   "execution_count": null,
   "metadata": {},
   "outputs": [],
   "source": []
  },
  {
   "cell_type": "code",
   "execution_count": null,
   "metadata": {},
   "outputs": [],
   "source": []
  },
  {
   "cell_type": "code",
   "execution_count": null,
   "metadata": {},
   "outputs": [],
   "source": []
  },
  {
   "cell_type": "code",
   "execution_count": null,
   "metadata": {},
   "outputs": [],
   "source": []
  }
 ],
 "metadata": {
  "kernelspec": {
   "display_name": "Python 3",
   "language": "python",
   "name": "python3"
  },
  "language_info": {
   "codemirror_mode": {
    "name": "ipython",
    "version": 3
   },
   "file_extension": ".py",
   "mimetype": "text/x-python",
   "name": "python",
   "nbconvert_exporter": "python",
   "pygments_lexer": "ipython3",
   "version": "3.8.5"
  }
 },
 "nbformat": 4,
 "nbformat_minor": 4
}
